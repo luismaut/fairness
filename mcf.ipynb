{
 "cells": [
  {
   "cell_type": "code",
   "execution_count": 1,
   "metadata": {
    "pycharm": {
     "name": "#%%\n"
    }
   },
   "outputs": [],
   "source": [
    "import torch\n",
    "from tqdm.notebook import tqdm\n",
    "import trimesh\n",
    "import scipy\n",
    "import numpy as np\n",
    "from scipy.sparse.linalg import spsolve\n",
    "import robust_laplacian\n",
    "\n",
    "import plotly.io as pio\n",
    "\n",
    "pio.renderers.default = \"browser\"\n",
    "\n",
    "from plot import animate_mesh_frames\n",
    "from shape import calc_tri_areas\n",
    "\n",
    "from smplpytorch.pytorch.smpl_layer import SMPL_Layer\n",
    "from display_utils import display_model"
   ]
  },
  {
   "cell_type": "code",
   "execution_count": 2,
   "metadata": {},
   "outputs": [],
   "source": [
    "cuda = False\n",
    "batch_size = 1\n",
    "\n",
    "# Create the SMPL layer\n",
    "smpl_layer = SMPL_Layer(\n",
    "    center_idx=0,\n",
    "    gender='male',\n",
    "    model_root='smplpytorch/native/models')\n",
    "\n",
    "model_faces = smpl_layer.th_faces\n",
    "\n",
    "# Generate T-pose and random shape parameters\n",
    "pose_params = torch.rand(batch_size, 72) * 0.\n",
    "\n",
    "# matrix of shapes\n",
    "total_shapes_matrix = []\n",
    "partial_shapes_matrix = []\n",
    "#limit = 30.0\n",
    "limit = 45.0\n",
    "#start_vertex_index = 6866\n",
    "#shape_params = torch.Tensor([[-4.3178, 2.5392, 3.9581, -3.6548, -3.0813, -1.8783, -4.1754, 0.6651, -3.2443, -0.8823]])\n",
    "start_vertex_index = 5907\n",
    "\n",
    "num_shapes = 1000"
   ]
  },
  {
   "cell_type": "code",
   "execution_count": 7,
   "metadata": {
    "pycharm": {
     "name": "#%%\n"
    }
   },
   "outputs": [
    {
     "data": {
      "application/vnd.jupyter.widget-view+json": {
       "model_id": "a23da033717a4c18afcb30c03e5d7636",
       "version_major": 2,
       "version_minor": 0
      },
      "text/plain": [
       "HBox(children=(IntProgress(value=0, max=1000), HTML(value='')))"
      ]
     },
     "metadata": {},
     "output_type": "display_data"
    },
    {
     "name": "stdout",
     "output_type": "stream",
     "text": [
      "\n"
     ]
    }
   ],
   "source": [
    "total_shapes_matrix = []\n",
    "partial_shapes_matrix = []\n",
    "for _ in tqdm(range(num_shapes)):\n",
    "    # Generate random shape parameters\n",
    "    shape_params = torch.Tensor([np.random.uniform(-5., 5., 10).tolist()])\n",
    "    \n",
    "    if cuda:\n",
    "        pose_params = pose_params.cuda()\n",
    "        shape_params = shape_params.cuda()\n",
    "        smpl_layer.cuda()\n",
    "    \n",
    "    # Forward from the SMPL layer\n",
    "    verts, Jtr = smpl_layer(pose_params, th_betas=shape_params)\n",
    "    \n",
    "    # Append the total shape\n",
    "    total_shapes_matrix.append(np.array(verts)[0, :, :])\n",
    "    \n",
    "    # Convert list of triangles in adjacency matrices\n",
    "    adjacency, edges = trimesh.graph.face_adjacency(model_faces, return_edges=True)\n",
    "\n",
    "    # Transform edges matrix into a sparse matrix\n",
    "    coo = trimesh.graph.edges_to_coo(edges)\n",
    "    csr = coo.tocsr()\n",
    "\n",
    "    # Dijkstra Algorithm\n",
    "    distances = scipy.sparse.csgraph.dijkstra(csr, directed=False)\n",
    "    distances_from_start_vertex = distances[start_vertex_index]\n",
    "\n",
    "    # border indices [POSITION in verts array], distance from start_vertex == limit\n",
    "    border_indices = [i for i in range(len(distances_from_start_vertex)) if distances_from_start_vertex[i] == limit]\n",
    "    \n",
    "    # partial verts indices [POSITION in verts array] in the total shape, with distance from start_vertex <= limit\n",
    "    partial_shape_indices = [i for i in range(len(distances_from_start_vertex)) if distances_from_start_vertex[i] <= limit]\n",
    "\n",
    "    # partial verts position [VALUE in verts array] respect to the total shape\n",
    "    partial_shape_verts = []\n",
    "    for index in partial_shape_indices:\n",
    "        partial_shape_verts.append(verts[0][index].numpy().tolist())\n",
    "    \n",
    "    # correspondence between indices in total/partial verts arrays\n",
    "    verts_indices_corr = []\n",
    "    for index in partial_shape_indices:\n",
    "        verts_indices_corr.append([index, partial_shape_indices.index(index)])\n",
    "\n",
    "    # faces containing partial verts indices\n",
    "    partial_shape_faces = []\n",
    "    for face in model_faces: # for all faces\n",
    "        face_list = face.numpy().tolist()\n",
    "        vertex_count = 0\n",
    "        for index in partial_shape_indices: \n",
    "            if index in face_list:\n",
    "                vertex_count = vertex_count + 1\n",
    "                if vertex_count > 2: # if a face contains partial shape indices\n",
    "                    partial_shape_faces.append(face_list) # append the face\n",
    "                \n",
    "    # map selected faces to selected vertices\n",
    "    partial_shape_faces_mapped = [x[:] for x in partial_shape_faces]\n",
    "    for i, face in enumerate(partial_shape_faces_mapped):\n",
    "        for j, vertex_index in enumerate(face):\n",
    "            # get the index position in \"partial_shape_indices\" of the vertex index\n",
    "            partial_shape_faces_mapped[i][j] = partial_shape_indices.index(vertex_index)\n",
    "    \n",
    "    # select partial shape border indices [POSITION in partial_shape_verts] in total shape\n",
    "    partial_shape_border_indices = []\n",
    "    for l in verts_indices_corr:\n",
    "        if l[0] in border_indices:\n",
    "            partial_shape_border_indices.append(l[1])\n",
    "            \n",
    "    # Mean-Curvature Flow\n",
    "    delta = 0.0001\n",
    "    #max_iter = 50\n",
    "    max_iter = 35\n",
    "\n",
    "    # define new shape using 'partial_shape_verts' and 'partial_shape_faces_mapped'\n",
    "    V = np.array(partial_shape_verts)\n",
    "    F = np.array(partial_shape_faces_mapped)\n",
    "\n",
    "    L, _ = robust_laplacian.mesh_laplacian(V, F)\n",
    "    U = V\n",
    "    flow = [(np.array(verts)[0, :, :], model_faces)]\n",
    "\n",
    "    for i in range(max_iter):\n",
    "        _, M = robust_laplacian.mesh_laplacian(U, F)\n",
    "\n",
    "        A = M + delta*L\n",
    "        A = A.tolil()\n",
    "        B = M@U\n",
    "\n",
    "        for j in range(A.shape[0]):\n",
    "            if j in partial_shape_border_indices:\n",
    "                for k in range(A.shape[1]):\n",
    "                    A[j, k] = 1. if j == k else 0.\n",
    "                B[j] = U[j]\n",
    "            else:\n",
    "                for k in range(A.shape[1]):\n",
    "                    if k in partial_shape_border_indices:\n",
    "                        B[j] = B[j] - U[j]*A[j,k]\n",
    "                        A[j, k] = 0.\n",
    "\n",
    "        A = A.tocsc()\n",
    "        U = spsolve(A, B)\n",
    "\n",
    "        full_verts = np.array(verts)[0, :, :]\n",
    "        full_verts[np.array(verts_indices_corr)[:, 0]] = U\n",
    "        flow.append((full_verts, model_faces))\n",
    "        \n",
    "    partial_shapes_matrix.append(full_verts)"
   ]
  }
 ],
 "metadata": {
  "kernelspec": {
   "display_name": "Python 3",
   "language": "python",
   "name": "python3"
  },
  "language_info": {
   "codemirror_mode": {
    "name": "ipython",
    "version": 3
   },
   "file_extension": ".py",
   "mimetype": "text/x-python",
   "name": "python",
   "nbconvert_exporter": "python",
   "pygments_lexer": "ipython3",
   "version": "3.7.4"
  }
 },
 "nbformat": 4,
 "nbformat_minor": 2
}
